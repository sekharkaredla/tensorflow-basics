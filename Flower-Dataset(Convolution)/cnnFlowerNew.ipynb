{
 "cells": [
  {
   "cell_type": "code",
   "execution_count": 2,
   "metadata": {},
   "outputs": [],
   "source": [
    "import tensorflow as tf\n",
    "import cv2\n",
    "import numpy as np\n",
    "import glob\n",
    "from sklearn.model_selection import train_test_split\n",
    "from sklearn.preprocessing import LabelEncoder\n",
    "from sklearn.utils import shuffle"
   ]
  },
  {
   "cell_type": "code",
   "execution_count": 3,
   "metadata": {},
   "outputs": [],
   "source": [
    "learning_rate = 0.0001\n",
    "epochs = 10\n",
    "batch_size = 50\n",
    "\n",
    "inputs = tf.placeholder(tf.float32, [None, 196608])\n",
    "inputs_reshaped = tf.reshape(inputs, [-1, 256, 256, 3])\n",
    "outputs_expected = tf.placeholder(tf.float32, [None, 5])"
   ]
  },
  {
   "cell_type": "code",
   "execution_count": 4,
   "metadata": {},
   "outputs": [],
   "source": [
    "def one_hot_encode(labels):\n",
    "    # if it is 'label1' it will be represented as [1, 0, 0] in one_hot_encoder. At a time only one output is hot\n",
    "    n_labels = len(labels)\n",
    "    n_unique_labels = len(np.unique(labels))\n",
    "    one_hot_encode = np.zeros((n_labels,n_unique_labels))\n",
    "    one_hot_encode[range(n_labels),labels] = 1\n",
    "    one_hot_encode.astype(float)\n",
    "    return one_hot_encode\n",
    "\n",
    "def split_dataset_with_ratio(ratio):\n",
    "    data = np.array([],dtype=np.float32)\n",
    "    labels = []\n",
    "    flower_data_folder = \"/Users/roshni/Documents/CODE/flowers_dataset/reshaped/\"\n",
    "    for each_flower_image in glob.glob(flower_data_folder+\"*.jpg\"):\n",
    "        image_data = cv2.imread(each_flower_image)\n",
    "        image_data = image_data.astype(float)\n",
    "        image_label = each_flower_image.split('/')[-1].split('_')[0]\n",
    "\n",
    "        image_data = (image_data - image_data.min())/(image_data.max() - image_data.min())\n",
    "        image_data = image_data.reshape(-1,1)\n",
    "        data = np.append(data,image_data)\n",
    "        labels.append(image_label)\n",
    "        print image_label\n",
    "        print image_data\n",
    "\n",
    "    data, labels = shuffle(data, labels, random_state=1)\n",
    "    labelEncoder = LabelEncoder()\n",
    "    labelEncoder.fit(labels)\n",
    "    labels = labelEncoder.transform(labels)\n",
    "    labels = one_hot_encode(labels=labels)\n",
    "    data_train, data_test, labels_train, labels_test = train_test_split(data, labels, test_size=ratio, random_state=42)\n",
    "    return data_train, labels_train, data_test, labels_test"
   ]
  },
  {
   "cell_type": "code",
   "execution_count": 5,
   "metadata": {},
   "outputs": [],
   "source": [
    "class BatchDataset:\n",
    "    def __init__(self,ratio,batch_size):\n",
    "        data = split_dataset_with_ratio(ratio)\n",
    "        self.data_train = data[0]\n",
    "        self.labels_train = data[1]\n",
    "        self.data_test = data[2]\n",
    "        self.labels_test = data[3]\n",
    "        self.counter = 0\n",
    "        self.data_present = True\n",
    "        self.batch_size = batch_size\n",
    "\n",
    "    def get_next(self):\n",
    "        if self.counter+self.batch_size<len(self.data_train):\n",
    "            self.counter += self.batch_size\n",
    "            return (self.data_train[self.counter:self.counter+self.batch_size],self.labels_train[self.counter:self.counter+self.batch_size])\n",
    "        else:\n",
    "            self.data_present = False\n",
    "            return (self.data_train[self.counter:],self.labels_train[self.counter:])\n",
    "\n",
    "    def get_test_data(self):\n",
    "        return (self.data_test,self.labels_test)\n",
    "\n",
    "    def get_details(self):\n",
    "        print len(self.data_train), len(self.labels_train), len(self.data_test), len(self.labels_test)"
   ]
  },
  {
   "cell_type": "code",
   "execution_count": 6,
   "metadata": {},
   "outputs": [],
   "source": [
    "def create_new_conv_layer(input_data, num_input_channels, num_filters, filter_shape, pool_shape, name):\n",
    "    conv_filt_shape = [filter_shape[0], filter_shape[1], num_input_channels, num_filters]\n",
    "\n",
    "   \n",
    "    weights = tf.Variable(tf.truncated_normal(conv_filt_shape, stddev=0.03), name=name+'_W')\n",
    "    bias = tf.Variable(tf.truncated_normal([num_filters]), name=name+'_b')\n",
    "\n",
    "  \n",
    "    out_layer = tf.nn.conv2d(input_data, weights, [1, 1, 1, 1], padding='SAME')\n",
    "\n",
    "\n",
    "    out_layer += bias\n",
    "\n",
    "    \n",
    "    out_layer = tf.nn.relu(out_layer)\n",
    "\n",
    "\n",
    "    ksize = [1, pool_shape[0], pool_shape[1], 1]\n",
    "    strides = [1, 2, 2, 1]\n",
    "    out_layer = tf.nn.max_pool(out_layer, ksize=ksize, strides=strides, padding='SAME')\n",
    "\n",
    "    return out_layer"
   ]
  },
  {
   "cell_type": "code",
   "execution_count": 7,
   "metadata": {},
   "outputs": [],
   "source": [
    "layer1 = create_new_conv_layer(inputs_reshaped, 3, 32, [20, 20], [10, 10], name='layer1')\n",
    "layer2 = create_new_conv_layer(layer1, 32, 64, [20, 20], [10, 10], name='layer2')"
   ]
  },
  {
   "cell_type": "code",
   "execution_count": 8,
   "metadata": {},
   "outputs": [],
   "source": [
    "flattened_layer = tf.reshape(layer2, [-1, 64 * 64 * 64])\n",
    "weight_flat = tf.Variable(tf.truncated_normal([64 * 64 * 64, 85000], stddev=0.03), name='weight_flat')\n",
    "bais_flat = tf.Variable(tf.truncated_normal([85000], stddev=0.01), name='bais_flat')\n",
    "dense_layer1 = tf.matmul(flattened_layer, weight_flat) + bais_flat\n",
    "dense_layer1 = tf.nn.relu(dense_layer1)"
   ]
  },
  {
   "cell_type": "code",
   "execution_count": 9,
   "metadata": {},
   "outputs": [],
   "source": [
    "weight_final_softmax = tf.Variable(tf.truncated_normal([85000, 1000], stddev=0.03), name='weight_final_softmax')\n",
    "bais_final_softmax = tf.Variable(tf.truncated_normal([1000], stddev=0.01), name='bais_final_softmax')\n",
    "dense_layer2 = tf.matmul(dense_layer1, weight_final_softmax) + bais_final_softmax\n",
    "outputs_predicted = tf.nn.softmax(dense_layer2)"
   ]
  },
  {
   "cell_type": "code",
   "execution_count": 10,
   "metadata": {},
   "outputs": [
    {
     "name": "stdout",
     "output_type": "stream",
     "text": [
      "WARNING:tensorflow:From <ipython-input-10-2def1b4003ac>:1: softmax_cross_entropy_with_logits (from tensorflow.python.ops.nn_ops) is deprecated and will be removed in a future version.\n",
      "Instructions for updating:\n",
      "\n",
      "Future major versions of TensorFlow will allow gradients to flow\n",
      "into the labels input on backprop by default.\n",
      "\n",
      "See `tf.nn.softmax_cross_entropy_with_logits_v2`.\n",
      "\n"
     ]
    }
   ],
   "source": [
    "cost_function = tf.reduce_mean(tf.nn.softmax_cross_entropy_with_logits(logits=dense_layer2, labels=outputs_expected))\n",
    "optimizer = tf.train.AdamOptimizer(learning_rate=learning_rate).minimize(cost_function)\n",
    "correct_prediction = tf.equal(tf.argmax(outputs_expected, 1), tf.argmax(outputs_predicted, 1))\n",
    "accuracy = tf.reduce_mean(tf.cast(correct_prediction, tf.float32))\n",
    "init_op = tf.global_variables_initializer()"
   ]
  },
  {
   "cell_type": "code",
   "execution_count": null,
   "metadata": {},
   "outputs": [],
   "source": [
    "sess = tf.Session()\n",
    "sess.run(init_op)\n",
    "\n",
    "batchDataset = BatchDataset(0.30,4)\n",
    "print \"dataset content details:\"\n",
    "batchDataset.get_details()\n",
    "\n",
    "for each_epoch in range(epochs):\n",
    "    batchDataset.data_present = True\n",
    "    batchDataset.counter = 0\n",
    "    data_test, labels_test = batchDataset.get_test_data()\n",
    "    while(batchDataset.data_present):\n",
    "        data_train, labels_train = batchDataset.get_next()\n",
    "        print (data_train,labels_train)\n",
    "        sess.run(optimizer, feed_dict={inputs: data_train, outputs_expected: labels_train})\n",
    "        cost = sess.run(cost_function,feed_dict={inputs:data_train, outputs_expected:labels_train})\n",
    "        pred_outputs = sess.run(outputs_predicted,{inputs:data_test})\n",
    "        mean_square_error = tf.reduce_mean(tf.square(outputs_predicted - labels_test))\n",
    "        mean_square_error_value = sess.run(mean_square_error)\n",
    "        accuracy_value = sess.run(accuracy, {inputs: data_test, outputs_expected: labels_test})\n",
    "        print \"epoch number : \"+ str(each_epoch) + \" - cost : \"+ str(cost)+\" - mse : \"+str(mean_square_error_value)+\" - accuracy : \"+str(accuracy_value)\n",
    "    "
   ]
  },
  {
   "cell_type": "code",
   "execution_count": null,
   "metadata": {},
   "outputs": [],
   "source": []
  }
 ],
 "metadata": {
  "kernelspec": {
   "display_name": "Python 2",
   "language": "python",
   "name": "python2"
  },
  "language_info": {
   "codemirror_mode": {
    "name": "ipython",
    "version": 2
   },
   "file_extension": ".py",
   "mimetype": "text/x-python",
   "name": "python",
   "nbconvert_exporter": "python",
   "pygments_lexer": "ipython2",
   "version": "2.7.15"
  }
 },
 "nbformat": 4,
 "nbformat_minor": 2
}
